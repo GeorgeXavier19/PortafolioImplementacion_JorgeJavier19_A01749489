{
  "nbformat": 4,
  "nbformat_minor": 0,
  "metadata": {
    "colab": {
      "provenance": []
    },
    "kernelspec": {
      "name": "python3",
      "display_name": "Python 3"
    },
    "language_info": {
      "name": "python"
    }
  },
  "cells": [
    {
      "cell_type": "markdown",
      "source": [
        "# Python Libraries\n",
        "\n"
      ],
      "metadata": {
        "id": "9mv-4_eDUswO"
      }
    },
    {
      "cell_type": "code",
      "source": [
        "# Importar la función load_digits desde la librería sklearn.datasets\n",
        "from sklearn.datasets import load_digits\n",
        "# Importar la librería matplotlib para visualización\n",
        "import matplotlib.pyplot as plt\n",
        "# Importar la función train_test_split para dividir el conjunto de datos en entrenamiento y prueba\n",
        "from sklearn.model_selection import train_test_split\n",
        "from sklearn.metrics import accuracy_score\n",
        "# Importar el clasificador KNeighborsClassifier de la librería sklearn.neighbors\n",
        "from sklearn.neighbors import KNeighborsClassifier\n",
        "# Importar la libreria Numpy\n",
        "import numpy as np\n",
        "# Importar funciones para evaluar el modelo\n",
        "from sklearn.metrics import confusion_matrix, accuracy_score, precision_score, recall_score, f1_score"
      ],
      "metadata": {
        "id": "1fL5SYxPoW55"
      },
      "execution_count": 22,
      "outputs": []
    },
    {
      "cell_type": "markdown",
      "source": [
        "# Dataset"
      ],
      "metadata": {
        "id": "VRWabesBUyHv"
      }
    },
    {
      "cell_type": "code",
      "source": [
        "# Cargar el conjunto de datos \"digits\" que contiene imágenes de dígitos escritos a mano\n",
        "digits = load_digits()"
      ],
      "metadata": {
        "id": "iaRocv9RobvE"
      },
      "execution_count": 23,
      "outputs": []
    },
    {
      "cell_type": "markdown",
      "source": [
        "### Información del Dataset\n",
        "- Nombre: digits dataset\n",
        "- URL: [digits dataset en Scikit-learn](https://scikit-learn.org/stable/modules/generated/sklearn.datasets.load_digits.html)"
      ],
      "metadata": {
        "id": "PZRosAx0D7Bf"
      }
    },
    {
      "cell_type": "markdown",
      "source": [
        "# Dataset documentation"
      ],
      "metadata": {
        "id": "wGcZvj1RU0xw"
      }
    },
    {
      "cell_type": "code",
      "source": [
        "# Imprimir la descripción del conjunto de datos\n",
        "print(digits.DESCR)"
      ],
      "metadata": {
        "colab": {
          "base_uri": "https://localhost:8080/"
        },
        "id": "sVDrmerUOq8n",
        "outputId": "a7fa31ef-469f-4d3a-9b6b-08af09a291b7"
      },
      "execution_count": 24,
      "outputs": [
        {
          "output_type": "stream",
          "name": "stdout",
          "text": [
            ".. _digits_dataset:\n",
            "\n",
            "Optical recognition of handwritten digits dataset\n",
            "--------------------------------------------------\n",
            "\n",
            "**Data Set Characteristics:**\n",
            "\n",
            "    :Number of Instances: 1797\n",
            "    :Number of Attributes: 64\n",
            "    :Attribute Information: 8x8 image of integer pixels in the range 0..16.\n",
            "    :Missing Attribute Values: None\n",
            "    :Creator: E. Alpaydin (alpaydin '@' boun.edu.tr)\n",
            "    :Date: July; 1998\n",
            "\n",
            "This is a copy of the test set of the UCI ML hand-written digits datasets\n",
            "https://archive.ics.uci.edu/ml/datasets/Optical+Recognition+of+Handwritten+Digits\n",
            "\n",
            "The data set contains images of hand-written digits: 10 classes where\n",
            "each class refers to a digit.\n",
            "\n",
            "Preprocessing programs made available by NIST were used to extract\n",
            "normalized bitmaps of handwritten digits from a preprinted form. From a\n",
            "total of 43 people, 30 contributed to the training set and different 13\n",
            "to the test set. 32x32 bitmaps are divided into nonoverlapping blocks of\n",
            "4x4 and the number of on pixels are counted in each block. This generates\n",
            "an input matrix of 8x8 where each element is an integer in the range\n",
            "0..16. This reduces dimensionality and gives invariance to small\n",
            "distortions.\n",
            "\n",
            "For info on NIST preprocessing routines, see M. D. Garris, J. L. Blue, G.\n",
            "T. Candela, D. L. Dimmick, J. Geist, P. J. Grother, S. A. Janet, and C.\n",
            "L. Wilson, NIST Form-Based Handprint Recognition System, NISTIR 5469,\n",
            "1994.\n",
            "\n",
            ".. topic:: References\n",
            "\n",
            "  - C. Kaynak (1995) Methods of Combining Multiple Classifiers and Their\n",
            "    Applications to Handwritten Digit Recognition, MSc Thesis, Institute of\n",
            "    Graduate Studies in Science and Engineering, Bogazici University.\n",
            "  - E. Alpaydin, C. Kaynak (1998) Cascading Classifiers, Kybernetika.\n",
            "  - Ken Tang and Ponnuthurai N. Suganthan and Xi Yao and A. Kai Qin.\n",
            "    Linear dimensionalityreduction using relevance weighted LDA. School of\n",
            "    Electrical and Electronic Engineering Nanyang Technological University.\n",
            "    2005.\n",
            "  - Claudio Gentile. A New Approximate Maximal Margin Classification\n",
            "    Algorithm. NIPS. 2000.\n",
            "\n"
          ]
        }
      ]
    },
    {
      "cell_type": "markdown",
      "source": [
        "# Tipo de Problema: Clasificación\n",
        "\n",
        "Este código resuelve un problema de clasificación en el que se busca etiquetar imágenes de dígitos escritos a mano en categorías numéricas, es decir, asignar a cada imagen un número que corresponde al dígito representado en la imagen. Dado que se trata de una tarea de clasificación, el objetivo es predecir la categoría a la que pertenece cada imagen de dígito."
      ],
      "metadata": {
        "id": "x_ekAyrnI5jR"
      }
    },
    {
      "cell_type": "markdown",
      "source": [
        "# Dimensions"
      ],
      "metadata": {
        "id": "XDaJKZuKVr_m"
      }
    },
    {
      "cell_type": "code",
      "source": [
        "# Mostrar la forma (dimensiones) de los datos de las imágenes y las etiquetas\n",
        "digits.data.shape"
      ],
      "metadata": {
        "colab": {
          "base_uri": "https://localhost:8080/"
        },
        "id": "OqaBwwO4ogsh",
        "outputId": "ea5c06a5-7b15-49b0-8613-9a2e24cfd373"
      },
      "execution_count": 25,
      "outputs": [
        {
          "output_type": "execute_result",
          "data": {
            "text/plain": [
              "(1797, 64)"
            ]
          },
          "metadata": {},
          "execution_count": 25
        }
      ]
    },
    {
      "cell_type": "code",
      "source": [
        "# Mostrar la forma (dimensiones) de  las etiquetas\n",
        "digits.target.shape"
      ],
      "metadata": {
        "colab": {
          "base_uri": "https://localhost:8080/"
        },
        "id": "GBQtPrP9qk4l",
        "outputId": "7460f2d5-3747-477d-d577-aa3d9e56e05c"
      },
      "execution_count": 26,
      "outputs": [
        {
          "output_type": "execute_result",
          "data": {
            "text/plain": [
              "(1797,)"
            ]
          },
          "metadata": {},
          "execution_count": 26
        }
      ]
    },
    {
      "cell_type": "markdown",
      "source": [
        "# Select a dataset element"
      ],
      "metadata": {
        "id": "QCV_zeQ-Vvc2"
      }
    },
    {
      "cell_type": "code",
      "source": [
        "# Mostrar los valores de los datos en la posición 15\n",
        "digits.data[15]"
      ],
      "metadata": {
        "colab": {
          "base_uri": "https://localhost:8080/"
        },
        "id": "0WVA4lmEoikS",
        "outputId": "b627e81f-3a95-41ca-dc26-6467dab8eaf3"
      },
      "execution_count": 27,
      "outputs": [
        {
          "output_type": "execute_result",
          "data": {
            "text/plain": [
              "array([ 0.,  5., 12., 13., 16., 16.,  2.,  0.,  0., 11., 16., 15.,  8.,\n",
              "        4.,  0.,  0.,  0.,  8., 14., 11.,  1.,  0.,  0.,  0.,  0.,  8.,\n",
              "       16., 16., 14.,  0.,  0.,  0.,  0.,  1.,  6.,  6., 16.,  0.,  0.,\n",
              "        0.,  0.,  0.,  0.,  5., 16.,  3.,  0.,  0.,  0.,  1.,  5., 15.,\n",
              "       13.,  0.,  0.,  0.,  0.,  4., 15., 16.,  2.,  0.,  0.,  0.])"
            ]
          },
          "metadata": {},
          "execution_count": 27
        }
      ]
    },
    {
      "cell_type": "markdown",
      "source": [
        "# Data Preview"
      ],
      "metadata": {
        "id": "r1cYDZIUWJXx"
      }
    },
    {
      "cell_type": "code",
      "source": [
        "# Crear una cuadrícula de subplots para mostrar imágenes y etiquetas\n",
        "figure, axes = plt.subplots(nrows=4, ncols=6, figsize=(5, 6))\n",
        "\n",
        "# Iterar sobre la cuadrícula de subplots y mostrar imágenes y etiquetas\n",
        "for item in zip(axes.ravel(), digits.images, digits.target):\n",
        "    axes, image, target = item\n",
        "    axes.imshow(image, cmap=plt.cm.gray_r)\n",
        "    axes.set_xticks([])\n",
        "    axes.set_yticks([])\n",
        "    axes.set_title(target)"
      ],
      "metadata": {
        "colab": {
          "base_uri": "https://localhost:8080/",
          "height": 476
        },
        "id": "Ew5YMKcXojvi",
        "outputId": "58282e89-6237-4343-e9bd-e6da3dc9d39b"
      },
      "execution_count": 28,
      "outputs": [
        {
          "output_type": "display_data",
          "data": {
            "text/plain": [
              "<Figure size 500x600 with 24 Axes>"
            ],
            "image/png": "[encoded data removed]"
          },
          "metadata": {}
        }
      ]
    },
    {
      "cell_type": "code",
      "source": [
        "# Ajustar el diseño de la visualización\n",
        "plt.tight_layout()"
      ],
      "metadata": {
        "colab": {
          "base_uri": "https://localhost:8080/",
          "height": 35
        },
        "id": "Ve9w_jYjop7B",
        "outputId": "bc1fb694-9a3c-41a1-9720-044ae9c8fd02"
      },
      "execution_count": 29,
      "outputs": [
        {
          "output_type": "display_data",
          "data": {
            "text/plain": [
              "<Figure size 640x480 with 0 Axes>"
            ]
          },
          "metadata": {}
        }
      ]
    },
    {
      "cell_type": "markdown",
      "source": [
        "# Split Test"
      ],
      "metadata": {
        "id": "694nK6jjW-lc"
      }
    },
    {
      "cell_type": "code",
      "source": [
        "# Dividir los datos en conjuntos de entrenamiento y prueba\n",
        "X_train, X_test, Y_train, Y_test = train_test_split(digits.data, digits.target, random_state=11)"
      ],
      "metadata": {
        "id": "7iNV-3sPox1l"
      },
      "execution_count": 30,
      "outputs": []
    },
    {
      "cell_type": "code",
      "source": [
        "# Mostrar las dimensiones de los conjuntos de entrenamiento y prueba\n",
        "X_train.shape\n",
        "X_test.shape"
      ],
      "metadata": {
        "colab": {
          "base_uri": "https://localhost:8080/"
        },
        "id": "jn_fJiFWo04d",
        "outputId": "8c40c8f8-0ff1-437d-fb4e-75166026e1c8"
      },
      "execution_count": 31,
      "outputs": [
        {
          "output_type": "execute_result",
          "data": {
            "text/plain": [
              "(450, 64)"
            ]
          },
          "metadata": {},
          "execution_count": 31
        }
      ]
    },
    {
      "cell_type": "markdown",
      "source": [
        "# KNeighborsClassifier"
      ],
      "metadata": {
        "id": "7wAvc8VnX0VT"
      }
    },
    {
      "cell_type": "code",
      "source": [
        "# Crear un clasificador KNeighborsClassifier\n",
        "knn = KNeighborsClassifier()"
      ],
      "metadata": {
        "id": "bZQkWukVo42c"
      },
      "execution_count": 32,
      "outputs": []
    },
    {
      "cell_type": "code",
      "source": [
        "# Entrenar el clasificador con los datos de entrenamiento\n",
        "knn.fit(X=X_train, y=Y_train)\n"
      ],
      "metadata": {
        "colab": {
          "base_uri": "https://localhost:8080/",
          "height": 74
        },
        "id": "gIFVBo1So6Y2",
        "outputId": "770d1443-053c-443d-f202-b0c69d84d4ab"
      },
      "execution_count": 33,
      "outputs": [
        {
          "output_type": "execute_result",
          "data": {
            "text/plain": [
              "KNeighborsClassifier()"
            ],
            "text/html": [
              "<style>#sk-container-id-2 {color: black;background-color: white;}#sk-container-id-2 pre{padding: 0;}#sk-container-id-2 div.sk-toggleable {background-color: white;}#sk-container-id-2 label.sk-toggleable__label {cursor: pointer;display: block;width: 100%;margin-bottom: 0;padding: 0.3em;box-sizing: border-box;text-align: center;}#sk-container-id-2 label.sk-toggleable__label-arrow:before {content: \"▸\";float: left;margin-right: 0.25em;color: #696969;}#sk-container-id-2 label.sk-toggleable__label-arrow:hover:before {color: black;}#sk-container-id-2 div.sk-estimator:hover label.sk-toggleable__label-arrow:before {color: black;}#sk-container-id-2 div.sk-toggleable__content {max-height: 0;max-width: 0;overflow: hidden;text-align: left;background-color: #f0f8ff;}#sk-container-id-2 div.sk-toggleable__content pre {margin: 0.2em;color: black;border-radius: 0.25em;background-color: #f0f8ff;}#sk-container-id-2 input.sk-toggleable__control:checked~div.sk-toggleable__content {max-height: 200px;max-width: 100%;overflow: auto;}#sk-container-id-2 input.sk-toggleable__control:checked~label.sk-toggleable__label-arrow:before {content: \"▾\";}#sk-container-id-2 div.sk-estimator input.sk-toggleable__control:checked~label.sk-toggleable__label {background-color: #d4ebff;}#sk-container-id-2 div.sk-label input.sk-toggleable__control:checked~label.sk-toggleable__label {background-color: #d4ebff;}#sk-container-id-2 input.sk-hidden--visually {border: 0;clip: rect(1px 1px 1px 1px);clip: rect(1px, 1px, 1px, 1px);height: 1px;margin: -1px;overflow: hidden;padding: 0;position: absolute;width: 1px;}#sk-container-id-2 div.sk-estimator {font-family: monospace;background-color: #f0f8ff;border: 1px dotted black;border-radius: 0.25em;box-sizing: border-box;margin-bottom: 0.5em;}#sk-container-id-2 div.sk-estimator:hover {background-color: #d4ebff;}#sk-container-id-2 div.sk-parallel-item::after {content: \"\";width: 100%;border-bottom: 1px solid gray;flex-grow: 1;}#sk-container-id-2 div.sk-label:hover label.sk-toggleable__label {background-color: #d4ebff;}#sk-container-id-2 div.sk-serial::before {content: \"\";position: absolute;border-left: 1px solid gray;box-sizing: border-box;top: 0;bottom: 0;left: 50%;z-index: 0;}#sk-container-id-2 div.sk-serial {display: flex;flex-direction: column;align-items: center;background-color: white;padding-right: 0.2em;padding-left: 0.2em;position: relative;}#sk-container-id-2 div.sk-item {position: relative;z-index: 1;}#sk-container-id-2 div.sk-parallel {display: flex;align-items: stretch;justify-content: center;background-color: white;position: relative;}#sk-container-id-2 div.sk-item::before, #sk-container-id-2 div.sk-parallel-item::before {content: \"\";position: absolute;border-left: 1px solid gray;box-sizing: border-box;top: 0;bottom: 0;left: 50%;z-index: -1;}#sk-container-id-2 div.sk-parallel-item {display: flex;flex-direction: column;z-index: 1;position: relative;background-color: white;}#sk-container-id-2 div.sk-parallel-item:first-child::after {align-self: flex-end;width: 50%;}#sk-container-id-2 div.sk-parallel-item:last-child::after {align-self: flex-start;width: 50%;}#sk-container-id-2 div.sk-parallel-item:only-child::after {width: 0;}#sk-container-id-2 div.sk-dashed-wrapped {border: 1px dashed gray;margin: 0 0.4em 0.5em 0.4em;box-sizing: border-box;padding-bottom: 0.4em;background-color: white;}#sk-container-id-2 div.sk-label label {font-family: monospace;font-weight: bold;display: inline-block;line-height: 1.2em;}#sk-container-id-2 div.sk-label-container {text-align: center;}#sk-container-id-2 div.sk-container {/* jupyter's `normalize.less` sets `[hidden] { display: none; }` but bootstrap.min.css set `[hidden] { display: none !important; }` so we also need the `!important` here to be able to override the default hidden behavior on the sphinx rendered scikit-learn.org. See: https://github.com/scikit-learn/scikit-learn/issues/21755 */display: inline-block !important;position: relative;}#sk-container-id-2 div.sk-text-repr-fallback {display: none;}</style><div id=\"sk-container-id-2\" class=\"sk-top-container\"><div class=\"sk-text-repr-fallback\"><pre>KNeighborsClassifier()</pre><b>In a Jupyter environment, please rerun this cell to show the HTML representation or trust the notebook. <br />On GitHub, the HTML representation is unable to render, please try loading this page with nbviewer.org.</b></div><div class=\"sk-container\" hidden><div class=\"sk-item\"><div class=\"sk-estimator sk-toggleable\"><input class=\"sk-toggleable__control sk-hidden--visually\" id=\"sk-estimator-id-2\" type=\"checkbox\" checked><label for=\"sk-estimator-id-2\" class=\"sk-toggleable__label sk-toggleable__label-arrow\">KNeighborsClassifier</label><div class=\"sk-toggleable__content\"><pre>KNeighborsClassifier()</pre></div></div></div></div></div>"
            ]
          },
          "metadata": {},
          "execution_count": 33
        }
      ]
    },
    {
      "cell_type": "markdown",
      "source": [
        "# Make predictions"
      ],
      "metadata": {
        "id": "yPrCdf3RYTt1"
      }
    },
    {
      "cell_type": "code",
      "source": [
        "# Realizar predicciones en el conjunto de prueba\n",
        "prediccion = knn.predict(X=X_test)"
      ],
      "metadata": {
        "id": "8qyvP7y1o8Is"
      },
      "execution_count": 34,
      "outputs": []
    },
    {
      "cell_type": "markdown",
      "source": [
        "# True Labels"
      ],
      "metadata": {
        "id": "8ik4ybcoYYBF"
      }
    },
    {
      "cell_type": "code",
      "source": [
        "# Etiquetas reales del conjunto de prueba\n",
        "esperado = Y_test"
      ],
      "metadata": {
        "id": "Yc1EwzHqo-W0"
      },
      "execution_count": 35,
      "outputs": []
    },
    {
      "cell_type": "markdown",
      "source": [
        "# Comparison between Actual Values and Predictions"
      ],
      "metadata": {
        "id": "-SaNyCNxYffj"
      }
    },
    {
      "cell_type": "code",
      "source": [
        "# Mostrar las primeras 20 predicciones\n",
        "\n",
        "print(\"Prediccion\",prediccion[:20])\n",
        "# Mostrar las primeras 20 etiquetas reales\n",
        "\n",
        "print(\"Esperado\",esperado[:20])"
      ],
      "metadata": {
        "colab": {
          "base_uri": "https://localhost:8080/"
        },
        "id": "ycopJS8uo_1B",
        "outputId": "ec45ca80-66ea-406c-f0d7-7d94c0e76fe6"
      },
      "execution_count": 42,
      "outputs": [
        {
          "output_type": "stream",
          "name": "stdout",
          "text": [
            "Prediccion [0 4 9 9 3 1 4 1 5 0 4 9 4 1 5 3 3 8 5 6]\n",
            "Esperado [0 4 9 9 3 1 4 1 5 0 4 9 4 1 5 3 3 8 3 6]\n"
          ]
        }
      ]
    },
    {
      "cell_type": "markdown",
      "source": [
        "## Métricas de Desempeño para el Subconjunto de Entrenamiento:\n",
        "\n",
        "En el código, se han calculado varias métricas de desempeño para evaluar el modelo en el conjunto de prueba. Estas métricas incluyen:\n",
        "\n",
        "Accuracy (Precisión): Mide la fracción de predicciones correctas realizadas por el modelo en relación con el total de predicciones. Es una métrica que cuantifica la precisión global del modelo.\n",
        "\n",
        "Precision (Precisión Ponderada): Esta métrica se calcula como la precisión promedio ponderada por clase. Es útil en problemas de clasificación multiclase, donde se tienen diferentes clases. La precisión ponderada tiene en cuenta el desequilibrio de clases.\n",
        "\n",
        "Recall (Recuperación o Sensibilidad Ponderada): Al igual que la precisión ponderada, esta métrica es útil en problemas de clasificación multiclase. Mide la capacidad del modelo para identificar correctamente los elementos de cada clase.\n",
        "\n",
        "F1-score (Puntuación F1 Ponderada): El puntaje F1 es una métrica que combina la precisión y el recall en un solo valor. Es especialmente útil cuando se busca un equilibrio entre la precisión y la exhaustividad."
      ],
      "metadata": {
        "id": "pGAWchoOJgIl"
      }
    },
    {
      "cell_type": "markdown",
      "source": [
        "# Confusion matrix"
      ],
      "metadata": {
        "id": "33xZIT8ZY_L3"
      }
    },
    {
      "cell_type": "code",
      "source": [
        "# Calcular la matriz de confusión\n",
        "conf_matrix = confusion_matrix(esperado, prediccion)\n",
        "\n",
        "# Calcular las métricas\n",
        "accuracy = accuracy_score(esperado, prediccion)\n",
        "precision = precision_score(esperado, prediccion, average='weighted')\n",
        "recall = recall_score(esperado, prediccion, average='weighted')\n",
        "f1 = f1_score(esperado, prediccion, average='weighted')\n",
        "\n",
        "# Imprimir la matriz de confusión\n",
        "print(\"Matriz de Confusión:\")\n",
        "print(conf_matrix)\n",
        "\n",
        "# Imprimir las métricas\n",
        "print(f\"Accuracy: {accuracy:.2f}\")\n",
        "print(f\"Precision: {precision:.2f}\")\n",
        "print(f\"Recall: {recall:.2f}\")\n",
        "print(f\"F1-score: {f1:.2f}\")"
      ],
      "metadata": {
        "colab": {
          "base_uri": "https://localhost:8080/"
        },
        "id": "Mv_xGZMzNrMY",
        "outputId": "4de961d5-72b2-4663-d244-364150c1ce86"
      },
      "execution_count": 37,
      "outputs": [
        {
          "output_type": "stream",
          "name": "stdout",
          "text": [
            "Matriz de Confusión:\n",
            "[[45  0  0  0  0  0  0  0  0  0]\n",
            " [ 0 45  0  0  0  0  0  0  0  0]\n",
            " [ 0  0 54  0  0  0  0  0  0  0]\n",
            " [ 0  0  0 42  0  1  0  1  0  0]\n",
            " [ 0  0  0  0 49  0  0  1  0  0]\n",
            " [ 0  0  0  0  0 38  0  0  0  0]\n",
            " [ 0  0  0  0  0  0 42  0  0  0]\n",
            " [ 0  0  0  0  0  0  0 45  0  0]\n",
            " [ 0  1  1  2  0  0  0  0 39  1]\n",
            " [ 0  0  0  0  1  0  0  0  1 41]]\n",
            "Accuracy: 0.98\n",
            "Precision: 0.98\n",
            "Recall: 0.98\n",
            "F1-score: 0.98\n"
          ]
        }
      ]
    },
    {
      "cell_type": "markdown",
      "source": [
        "Matriz de Confusión:\n",
        "\n",
        "Los valores en la diagonal principal nos muestran las clasificaciones correctas para cada clase.\n",
        "Los valores fuera de la diagonal principal representan las clasificaciones incorrectas.\n",
        "\n",
        "Accuracy (Precisión): 0.98\n",
        "\n",
        "El 98% de todas las muestras fueron clasificadas correctamente.\n",
        "\n",
        "Precision: 0.98\n",
        "\n",
        "Para cada clase, en promedio, el 98% de las muestras clasificadas como positivas son realmente positivas. En otras palabras, cuando el algoritmo predice que una muestra es de una cierta clase, en el 98% de los casos esa predicción es correcta.\n",
        "\n",
        "Recall (Sensibilidad): 0.98\n",
        "\n",
        "Para cada clase, en promedio, el 98% de las muestras positivas fueron correctamente identificadas por el algoritmo. Asi mismo, éste logra capturar el 98% de las muestras que realmente pertenecen a una clase.\n",
        "F1-score: 0.98\n",
        "\n",
        "El F1-score es una métrica que combina tanto la precisión como el recall en una sola medida. Un F1-score alto indica un buen equilibrio entre precisión y recall."
      ],
      "metadata": {
        "id": "zuJ-xNMNaRyZ"
      }
    },
    {
      "cell_type": "markdown",
      "source": [
        "# Moviendo los Hiper-parametros\n",
        "\n",
        "Algunos de los Hiper-parametros que se movieron a la hora de implementar el modelo de KNeighborsClassifier fueron:\n",
        "\n",
        "* n_neighbors (Número de Vecinos): Este hiperparámetro controla cuántos vecinos cercanos se utilizarán para realizar una predicción. Cuando modificamos n_neighbors, estamos cambiando la cantidad de vecinos que se considerarán al tomar una decisión de clasificación. Un valor más bajo significa que se considerarán menos vecinos cercanos, lo que puede hacer que el modelo sea más sensible a los detalles locales en los datos. Un valor más alto suavizará las decisiones al considerar un mayor número de vecinos. En el código, hemos cambiado n_neighbors a 5 para considerar 5 vecinos cercanos.\n",
        "\n",
        "* weights (Pesos): Este hiperparámetro controla cómo se ponderan los vecinos cercanos en la decisión de clasificación. Puede tomar dos valores principales: 'uniform' y 'distance'. Cuando se establece en 'uniform', todos los vecinos tienen el mismo peso en la decisión. Cuando se establece en 'distance', los vecinos más cercanos tienen un peso mayor y los vecinos más lejanos tienen un peso menor. Modificar weights afecta cómo se consideran las contribuciones de los vecinos en la clasificación. En el código, hemos cambiado weights a 'distance' para dar más peso a los vecinos más cercanos.\n",
        "\n",
        "* metric (Métrica de Distancia): Este hiperparámetro determina la métrica de distancia utilizada para medir la proximidad entre puntos. Puede tomar valores como 'euclidean', 'manhattan', 'chebyshev' y otros. Cada métrica de distancia calcula la distancia de manera diferente. Por ejemplo, 'euclidean' utiliza la distancia euclidiana estándar, mientras que 'manhattan' utiliza la distancia de Manhattan. Cambiar metric afecta cómo se calcula la distancia entre puntos y, por lo tanto, cómo se determina la cercanía de los vecinos. En el código, hemos cambiado metric a 'manhattan' como ejemplo."
      ],
      "metadata": {
        "id": "hdRbo3wV5E7B"
      }
    },
    {
      "cell_type": "code",
      "source": [
        "# Modificar hiperparámetros del clasificador KNeighborsClassifier\n",
        "# En este caso, modificamos el número de vecinos y los pesos utilizados en las predicciones.\n",
        "knn = KNeighborsClassifier(n_neighbors=10, weights='distance')  # Por ejemplo, utilizamos 5 vecinos y pesos 'distance'\n",
        "\n",
        "# Entrenar el clasificador con los datos de entrenamiento\n",
        "knn.fit(X=X_train, y=Y_train)\n",
        "# Realizar predicciones en el conjunto de prueba\n",
        "prediccion = knn.predict(X=X_test)\n",
        "# Etiquetas reales del conjunto de prueba\n",
        "esperado = Y_test\n",
        "# Mostrar las primeras 20 predicciones\n",
        "prediccion[:20]\n",
        "# Mostrar las primeras 20 etiquetas reales\n",
        "esperado[:20]\n",
        "# Calcular la matriz de confusión\n",
        "conf_matrix = confusion_matrix(esperado, prediccion)\n",
        "\n",
        "# Calcular las métricas\n",
        "accuracy = accuracy_score(esperado, prediccion)\n",
        "precision = precision_score(esperado, prediccion, average='weighted')\n",
        "recall = recall_score(esperado, prediccion, average='weighted')\n",
        "f1 = f1_score(esperado, prediccion, average='weighted')\n",
        "\n",
        "# Imprimir la matriz de confusión\n",
        "print(\"Matriz de Confusión:\")\n",
        "print(conf_matrix)\n",
        "\n",
        "# Imprimir las métricas\n",
        "print(f\"Accuracy: {accuracy:.2f}\")\n",
        "print(f\"Precision: {precision:.2f}\")\n",
        "print(f\"Recall: {recall:.2f}\")\n",
        "print(f\"F1-score: {f1:.2f}\")"
      ],
      "metadata": {
        "colab": {
          "base_uri": "https://localhost:8080/"
        },
        "id": "j2ZN9lBb4Djl",
        "outputId": "eab0a413-a178-4c63-d1e6-d54b5752fcd3"
      },
      "execution_count": 38,
      "outputs": [
        {
          "output_type": "stream",
          "name": "stdout",
          "text": [
            "Matriz de Confusión:\n",
            "[[45  0  0  0  0  0  0  0  0  0]\n",
            " [ 0 45  0  0  0  0  0  0  0  0]\n",
            " [ 0  1 53  0  0  0  0  0  0  0]\n",
            " [ 0  0  0 42  0  1  0  1  0  0]\n",
            " [ 0  0  0  0 49  0  0  1  0  0]\n",
            " [ 0  0  0  0  0 38  0  0  0  0]\n",
            " [ 0  0  0  0  0  0 42  0  0  0]\n",
            " [ 0  0  0  0  0  0  0 45  0  0]\n",
            " [ 0  1  0  2  0  0  0  0 41  0]\n",
            " [ 0  0  0  0  1  0  0  0  1 41]]\n",
            "Accuracy: 0.98\n",
            "Precision: 0.98\n",
            "Recall: 0.98\n",
            "F1-score: 0.98\n"
          ]
        }
      ]
    },
    {
      "cell_type": "code",
      "source": [
        "# Importar la función load_digits desde la librería sklearn.datasets\n",
        "from sklearn.datasets import load_digits\n",
        "# Importar la librería matplotlib para visualización\n",
        "import matplotlib.pyplot as plt\n",
        "# Importar la función train_test_split para dividir el conjunto de datos en entrenamiento y prueba\n",
        "from sklearn.model_selection import train_test_split\n",
        "from sklearn.metrics import accuracy_score\n",
        "# Importar el clasificador KNeighborsClassifier de la librería sklearn.neighbors\n",
        "from sklearn.neighbors import KNeighborsClassifier\n",
        "# Importar la libreria Numpy\n",
        "import numpy as np\n",
        "# Importar funciones para evaluar el modelo\n",
        "from sklearn.metrics import confusion_matrix, accuracy_score, precision_score, recall_score, f1_score\n",
        "\n",
        "# Ajustar el diseño de la visualización\n",
        "plt.tight_layout()\n",
        "# Dividir los datos en conjuntos de entrenamiento y prueba\n",
        "X_train, X_test, Y_train, Y_test = train_test_split(digits.data, digits.target, random_state=11)\n",
        "# Mostrar las dimensiones de los conjuntos de entrenamiento y prueba\n",
        "X_train.shape\n",
        "X_test.shape\n",
        "\n",
        "# Modificar hiperparámetros del clasificador KNeighborsClassifier\n",
        "# Modificamos tres hiperparámetros diferentes: n_neighbors, weights y metric\n",
        "knn = KNeighborsClassifier(n_neighbors=5, weights='distance', metric='manhattan')  # Por ejemplo, utilizamos 5 vecinos, pesos 'distance' y métrica 'manhattan'\n",
        "\n",
        "# Entrenar el clasificador con los datos de entrenamiento\n",
        "knn.fit(X=X_train, y=Y_train)\n",
        "# Realizar predicciones en el conjunto de prueba\n",
        "prediccion = knn.predict(X=X_test)\n",
        "# Etiquetas reales del conjunto de prueba\n",
        "esperado = Y_test\n",
        "# Mostrar las primeras 20 predicciones\n",
        "prediccion[:20]\n",
        "# Mostrar las primeras 20 etiquetas reales\n",
        "esperado[:20]\n",
        "# Calcular la matriz de confusión\n",
        "conf_matrix = confusion_matrix(esperado, prediccion)\n",
        "\n",
        "# Calcular las métricas\n",
        "accuracy = accuracy_score(esperado, prediccion)\n",
        "precision = precision_score(esperado, prediccion, average='weighted')\n",
        "recall = recall_score(esperado, prediccion, average='weighted')\n",
        "f1 = f1_score(esperado, prediccion, average='weighted')\n",
        "\n",
        "# Imprimir la matriz de confusión\n",
        "print(\"Matriz de Confusión:\")\n",
        "print(conf_matrix)\n",
        "\n",
        "# Imprimir las métricas\n",
        "print(f\"Accuracy: {accuracy:.2f}\")\n",
        "print(f\"Precision: {precision:.2f}\")\n",
        "print(f\"Recall: {recall:.2f}\")\n",
        "print(f\"F1-score: {f1:.2f}\")\n"
      ],
      "metadata": {
        "colab": {
          "base_uri": "https://localhost:8080/",
          "height": 301
        },
        "id": "TfefyzmU4GaF",
        "outputId": "1bd4308f-0435-4ab9-9cf4-c4a73fe98f31"
      },
      "execution_count": 39,
      "outputs": [
        {
          "output_type": "stream",
          "name": "stdout",
          "text": [
            "Matriz de Confusión:\n",
            "[[45  0  0  0  0  0  0  0  0  0]\n",
            " [ 0 45  0  0  0  0  0  0  0  0]\n",
            " [ 0  0 54  0  0  0  0  0  0  0]\n",
            " [ 0  0  0 42  0  1  0  1  0  0]\n",
            " [ 0  0  0  0 49  0  0  1  0  0]\n",
            " [ 0  0  0  0  0 38  0  0  0  0]\n",
            " [ 0  0  0  0  0  0 42  0  0  0]\n",
            " [ 0  0  0  0  0  0  0 44  0  1]\n",
            " [ 0  3  0  2  0  0  0  1 38  0]\n",
            " [ 0  0  0  0  1  0  0  0  1 41]]\n",
            "Accuracy: 0.97\n",
            "Precision: 0.97\n",
            "Recall: 0.97\n",
            "F1-score: 0.97\n"
          ]
        },
        {
          "output_type": "display_data",
          "data": {
            "text/plain": [
              "<Figure size 640x480 with 0 Axes>"
            ]
          },
          "metadata": {}
        }
      ]
    }
  ]
}